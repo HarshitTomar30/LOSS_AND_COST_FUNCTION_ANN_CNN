{
 "cells": [
  {
   "cell_type": "code",
   "execution_count": 19,
   "id": "7503a442",
   "metadata": {},
   "outputs": [],
   "source": [
    "import numpy as np\n",
    "y_pred = np.array([1,1,0,0,1])\n",
    "y_true = np.array([0.30,0.7,1,0,0.5])"
   ]
  },
  {
   "cell_type": "markdown",
   "id": "b2ad7303",
   "metadata": {},
   "source": [
    "# absolute mean function"
   ]
  },
  {
   "cell_type": "code",
   "execution_count": 20,
   "id": "ee8cac9f",
   "metadata": {},
   "outputs": [],
   "source": [
    "def mae(y_true,y_pred):\n",
    "    total_error = 0\n",
    "    for yt ,yp in zip(y_true,y_pred):\n",
    "      total_error += abs(yt - yp)\n",
    "    print(\"total error : \",total_error)\n",
    "    mae = total_error/len(y_true)\n",
    "    print(\"MAE\",mae)\n",
    "    return mae\n",
    "    "
   ]
  },
  {
   "cell_type": "code",
   "execution_count": 21,
   "id": "12f188b1",
   "metadata": {},
   "outputs": [
    {
     "name": "stdout",
     "output_type": "stream",
     "text": [
      "total error :  2.5\n",
      "MAE 0.5\n"
     ]
    },
    {
     "data": {
      "text/plain": [
       "0.5"
      ]
     },
     "execution_count": 21,
     "metadata": {},
     "output_type": "execute_result"
    }
   ],
   "source": [
    "mae(y_true,y_pred)"
   ]
  },
  {
   "cell_type": "markdown",
   "id": "99917b8e",
   "metadata": {},
   "source": [
    "# absolute mean "
   ]
  },
  {
   "cell_type": "code",
   "execution_count": 22,
   "id": "37a482f0",
   "metadata": {},
   "outputs": [
    {
     "data": {
      "text/plain": [
       "0.5"
      ]
     },
     "execution_count": 22,
     "metadata": {},
     "output_type": "execute_result"
    }
   ],
   "source": [
    "np.mean(np.abs(y_pred - y_true ))"
   ]
  },
  {
   "cell_type": "code",
   "execution_count": 25,
   "id": "f81dc00e",
   "metadata": {},
   "outputs": [
    {
     "data": {
      "text/plain": [
       "array([-36.84136149])"
      ]
     },
     "execution_count": 25,
     "metadata": {},
     "output_type": "execute_result"
    }
   ],
   "source": [
    "np.log([0.0000000000000001])"
   ]
  },
  {
   "cell_type": "code",
   "execution_count": null,
   "id": "6b808df3",
   "metadata": {},
   "outputs": [],
   "source": []
  },
  {
   "cell_type": "code",
   "execution_count": 26,
   "id": "5d17b132",
   "metadata": {},
   "outputs": [],
   "source": [
    "eplison = 1e-15"
   ]
  },
  {
   "cell_type": "code",
   "execution_count": 27,
   "id": "c52eda92",
   "metadata": {},
   "outputs": [
    {
     "data": {
      "text/plain": [
       "array([1, 1, 0, 0, 1])"
      ]
     },
     "execution_count": 27,
     "metadata": {},
     "output_type": "execute_result"
    }
   ],
   "source": [
    "y_pred"
   ]
  },
  {
   "cell_type": "markdown",
   "id": "87f07bfb",
   "metadata": {},
   "source": [
    "# doing below steps because log([0]) in not available to us"
   ]
  },
  {
   "cell_type": "markdown",
   "id": "4701bbf5",
   "metadata": {},
   "source": [
    "# eplison convert the number to a number that is near to it like zero will be convert to near zero but not zero"
   ]
  },
  {
   "cell_type": "code",
   "execution_count": 31,
   "id": "ccc12304",
   "metadata": {},
   "outputs": [
    {
     "data": {
      "text/plain": [
       "[1, 1, 1e-15, 1e-15, 1]"
      ]
     },
     "execution_count": 31,
     "metadata": {},
     "output_type": "execute_result"
    }
   ],
   "source": [
    "y_pred_new = [max(i,eplison) for i in y_pred]\n",
    "y_pred_new"
   ]
  },
  {
   "cell_type": "markdown",
   "id": "0e4c38f2",
   "metadata": {},
   "source": [
    "# this convert to near 1 value but not one by doing (1- eplison )\n"
   ]
  },
  {
   "cell_type": "code",
   "execution_count": 33,
   "id": "659d4e1c",
   "metadata": {},
   "outputs": [
    {
     "data": {
      "text/plain": [
       "[0.999999999999999, 0.999999999999999, 1e-15, 1e-15, 0.999999999999999]"
      ]
     },
     "execution_count": 33,
     "metadata": {},
     "output_type": "execute_result"
    }
   ],
   "source": [
    "y_pred_new = [min(i,1-eplison) for i in y_pred_new]\n",
    "y_pred_new"
   ]
  },
  {
   "cell_type": "code",
   "execution_count": 57,
   "id": "cfae940f",
   "metadata": {},
   "outputs": [],
   "source": [
    "import numpy as np\n",
    "y_pred = np.array([1,1,0,0,1])\n",
    "y_true = np.array([0.30,0.7,1,0,0.5])"
   ]
  },
  {
   "cell_type": "markdown",
   "id": "78aa89e7",
   "metadata": {},
   "source": [
    "# mean sqaure error"
   ]
  },
  {
   "cell_type": "code",
   "execution_count": 60,
   "id": "e95057b9",
   "metadata": {},
   "outputs": [],
   "source": [
    "def mse(y_true,y_pred):\n",
    "    total_error =0\n",
    "    for yt,yp in zip(y_true,y_pred):\n",
    "        total_error += (yt- yp)**2\n",
    "    print(\"total error :\",total_error)\n",
    "    mse = total_error/len(y_true)\n",
    "    print(\"MSE : \",mse)\n",
    "    return(mse)"
   ]
  },
  {
   "cell_type": "code",
   "execution_count": 61,
   "id": "f4484125",
   "metadata": {},
   "outputs": [
    {
     "name": "stdout",
     "output_type": "stream",
     "text": [
      "total error : 1.83\n",
      "MSE :  0.366\n"
     ]
    },
    {
     "data": {
      "text/plain": [
       "0.366"
      ]
     },
     "execution_count": 61,
     "metadata": {},
     "output_type": "execute_result"
    }
   ],
   "source": [
    "mse(y_true,y_pred)"
   ]
  },
  {
   "cell_type": "markdown",
   "id": "5feb2171",
   "metadata": {},
   "source": [
    "# mean sqaure error using numpy "
   ]
  },
  {
   "cell_type": "code",
   "execution_count": 62,
   "id": "bfec45a8",
   "metadata": {},
   "outputs": [
    {
     "data": {
      "text/plain": [
       "0.366"
      ]
     },
     "execution_count": 62,
     "metadata": {},
     "output_type": "execute_result"
    }
   ],
   "source": [
    "np.mean(np.square(y_pred - y_true))"
   ]
  },
  {
   "cell_type": "code",
   "execution_count": null,
   "id": "cbcb48ed",
   "metadata": {},
   "outputs": [],
   "source": []
  },
  {
   "cell_type": "code",
   "execution_count": null,
   "id": "49d3f190",
   "metadata": {},
   "outputs": [],
   "source": []
  },
  {
   "cell_type": "code",
   "execution_count": null,
   "id": "beec7f2a",
   "metadata": {},
   "outputs": [],
   "source": []
  },
  {
   "cell_type": "code",
   "execution_count": null,
   "id": "0f87aafa",
   "metadata": {},
   "outputs": [],
   "source": []
  },
  {
   "cell_type": "code",
   "execution_count": null,
   "id": "0dc0d6bc",
   "metadata": {},
   "outputs": [],
   "source": []
  }
 ],
 "metadata": {
  "kernelspec": {
   "display_name": "Python 3 (ipykernel)",
   "language": "python",
   "name": "python3"
  },
  "language_info": {
   "codemirror_mode": {
    "name": "ipython",
    "version": 3
   },
   "file_extension": ".py",
   "mimetype": "text/x-python",
   "name": "python",
   "nbconvert_exporter": "python",
   "pygments_lexer": "ipython3",
   "version": "3.10.9"
  }
 },
 "nbformat": 4,
 "nbformat_minor": 5
}
